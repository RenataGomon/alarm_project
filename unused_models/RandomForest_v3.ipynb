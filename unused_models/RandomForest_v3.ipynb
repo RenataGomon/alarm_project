{
 "cells": [
  {
   "cell_type": "code",
   "execution_count": null,
   "id": "initial_id",
   "metadata": {
    "collapsed": true
   },
   "outputs": [],
   "source": [
    ""
   ]
  },
  {
   "metadata": {
    "collapsed": true,
    "ExecuteTime": {
     "end_time": "2025-05-04T20:05:46.392173Z",
     "start_time": "2025-05-04T20:05:46.389800Z"
    }
   },
   "cell_type": "code",
   "outputs": [],
   "source": "",
   "id": "4ace1befd835bf39",
   "execution_count": null
  },
  {
   "metadata": {
    "ExecuteTime": {
     "end_time": "2025-05-05T06:25:39.311467Z",
     "start_time": "2025-05-05T06:25:33.350226Z"
    }
   },
   "cell_type": "code",
   "outputs": [],
   "execution_count": 34,
   "source": [
    "import pandas as pd\n",
    "from sklearn.model_selection import TimeSeriesSplit\n",
    "import numpy as np\n",
    "from sklearn.ensemble import RandomForestClassifier\n",
    "from sklearn.model_selection import train_test_split, GridSearchCV\n",
    "from sklearn.metrics import classification_report, confusion_matrix\n",
    "import pickle\n",
    "import datetime\n",
    "import seaborn as sns\n",
    "from imblearn.under_sampling import RandomUnderSampler\n",
    "import matplotlib.pyplot as plt\n",
    "from collections import Counter\n",
    "from imblearn.under_sampling import RandomUnderSampler"
   ],
   "id": "c9df8b8b46e52129"
  },
  {
   "metadata": {
    "ExecuteTime": {
     "end_time": "2025-05-04T20:06:11.735153Z",
     "start_time": "2025-05-04T20:05:46.705563Z"
    }
   },
   "cell_type": "code",
   "outputs": [],
   "execution_count": 9,
   "source": "df_prepared_data = pd.read_csv('merged_with_isw.csv', sep=\",\")",
   "id": "8abf8fa9ca4812e2"
  },
  {
   "metadata": {},
   "cell_type": "markdown",
   "source": "## Split data Train/Test",
   "id": "a49af18d56fa3a4d"
  },
  {
   "metadata": {
    "ExecuteTime": {
     "end_time": "2025-05-04T20:06:12.772633Z",
     "start_time": "2025-05-04T20:06:11.770302Z"
    }
   },
   "cell_type": "code",
   "outputs": [],
   "execution_count": 10,
   "source": [
    "X = df_prepared_data.drop(columns=['was_alarm'])\n",
    "y_reg = df_prepared_data['was_alarm']\n",
    "y_bin = df_prepared_data['was_alarm']\n",
    "\n",
    "tscv = TimeSeriesSplit(n_splits=5)"
   ],
   "id": "faf81c04ccd77a5a"
  },
  {
   "metadata": {},
   "cell_type": "markdown",
   "source": "## Trainig",
   "id": "59a42642bf751b1"
  },
  {
   "metadata": {
    "ExecuteTime": {
     "end_time": "2025-05-04T20:06:16.265993Z",
     "start_time": "2025-05-04T20:06:13.200096Z"
    }
   },
   "cell_type": "code",
   "outputs": [],
   "execution_count": 11,
   "source": [
    "df_prepared_data['hour'] = pd.to_datetime(df_prepared_data['hour_datetimeEpoch'], unit='s').dt.hour\n",
    "df_prepared_data = df_prepared_data.drop(columns=['hour_datetimeEpoch'])\n",
    "df_prepared_data = pd.get_dummies(df_prepared_data, columns=['region_id'], drop_first=True)"
   ],
   "id": "74b19256fe3eee82"
  },
  {
   "metadata": {
    "ExecuteTime": {
     "end_time": "2025-05-04T20:06:16.542618Z",
     "start_time": "2025-05-04T20:06:16.539343Z"
    }
   },
   "cell_type": "code",
   "outputs": [],
   "source": "",
   "id": "5d5d458986a1448b",
   "execution_count": null
  },
  {
   "metadata": {
    "ExecuteTime": {
     "end_time": "2025-05-04T20:06:16.800529Z",
     "start_time": "2025-05-04T20:06:16.790694Z"
    }
   },
   "cell_type": "code",
   "outputs": [],
   "execution_count": 12,
   "source": [
    "region_ids = list(range(2, 27))\n",
    "\n",
    "region_map = {\n",
    "    1: \"Simferopol\",\n",
    "    2: \"Vinnytsia\",\n",
    "    3: \"Lutsk\",\n",
    "    4: \"Dnipro\",\n",
    "    5: \"Donetsk\",\n",
    "    6: \"Zhytomyr\",\n",
    "    7: \"Uzhgorod\",\n",
    "    8: \"Zaporozhye\",\n",
    "    9: \"Ivano-Frankivsk\",\n",
    "    10: \"Kyiv_obl\",\n",
    "    11: \"Kropyvnytskyi\",\n",
    "    12: \"Luhansk\",\n",
    "    13: \"Lviv\",\n",
    "    14: \"Mykolaiv\",\n",
    "    15: \"Odesa\",\n",
    "    16: \"Poltava\",\n",
    "    17: \"Rivne\",\n",
    "    18: \"Sumy\",\n",
    "    19: \"Ternopil\",\n",
    "    20: \"Kharkiv\",\n",
    "    21: \"Kherson\",\n",
    "    22: \"Khmelnytskyi\",\n",
    "    23: \"Cherkasy\",\n",
    "    24: \"Chernivtsi\",\n",
    "    25: \"Chernihiv\",\n",
    "    26: \"Kyiv\"\n",
    "}\n",
    "\n",
    "def prepare_region(pred_df):\n",
    "    pred_df = pd.get_dummies(pred_df, columns=['region_id'], drop_first=False)\n",
    "    \n",
    "    pred_df = pred_df.rename(columns={\n",
    "        f\"region_id_{i}\": region_map[i]\n",
    "        for i in region_map\n",
    "        if f\"region_id_{i}\" in pred_df.columns\n",
    "    })\n",
    "    \n",
    "    if \"Simferopol\" in pred_df.columns:\n",
    "        pred_df = pred_df.drop(columns=[\"Simferopol\"])\n",
    "    \n",
    "    expected_columns = [region_map[i] for i in range(2, 27)]\n",
    "    for col in expected_columns:\n",
    "        if col not in pred_df.columns:\n",
    "            pred_df[col] = False\n",
    "    \n",
    "    return pred_df[expected_columns]"
   ],
   "id": "39875c0d081e9ab"
  },
  {
   "metadata": {
    "ExecuteTime": {
     "end_time": "2025-05-04T20:06:17.264216Z",
     "start_time": "2025-05-04T20:06:17.027804Z"
    }
   },
   "cell_type": "code",
   "outputs": [
    {
     "ename": "KeyError",
     "evalue": "\"None of [Index(['region_id'], dtype='object')] are in the [columns]\"",
     "output_type": "error",
     "traceback": [
      "\u001B[31m---------------------------------------------------------------------------\u001B[39m",
      "\u001B[31mKeyError\u001B[39m                                  Traceback (most recent call last)",
      "\u001B[36mCell\u001B[39m\u001B[36m \u001B[39m\u001B[32mIn[13]\u001B[39m\u001B[32m, line 1\u001B[39m\n\u001B[32m----> \u001B[39m\u001B[32m1\u001B[39m p = \u001B[43mprepare_region\u001B[49m\u001B[43m(\u001B[49m\u001B[43mdf_prepared_data\u001B[49m\u001B[43m)\u001B[49m\n\u001B[32m      2\u001B[39m df_prepared_data = pd.concat([df_prepared_data, p], axis=\u001B[32m1\u001B[39m)\n",
      "\u001B[36mCell\u001B[39m\u001B[36m \u001B[39m\u001B[32mIn[12]\u001B[39m\u001B[32m, line 33\u001B[39m, in \u001B[36mprepare_region\u001B[39m\u001B[34m(pred_df)\u001B[39m\n\u001B[32m     32\u001B[39m \u001B[38;5;28;01mdef\u001B[39;00m\u001B[38;5;250m \u001B[39m\u001B[34mprepare_region\u001B[39m(pred_df):\n\u001B[32m---> \u001B[39m\u001B[32m33\u001B[39m     pred_df = \u001B[43mpd\u001B[49m\u001B[43m.\u001B[49m\u001B[43mget_dummies\u001B[49m\u001B[43m(\u001B[49m\u001B[43mpred_df\u001B[49m\u001B[43m,\u001B[49m\u001B[43m \u001B[49m\u001B[43mcolumns\u001B[49m\u001B[43m=\u001B[49m\u001B[43m[\u001B[49m\u001B[33;43m'\u001B[39;49m\u001B[33;43mregion_id\u001B[39;49m\u001B[33;43m'\u001B[39;49m\u001B[43m]\u001B[49m\u001B[43m,\u001B[49m\u001B[43m \u001B[49m\u001B[43mdrop_first\u001B[49m\u001B[43m=\u001B[49m\u001B[38;5;28;43;01mFalse\u001B[39;49;00m\u001B[43m)\u001B[49m\n\u001B[32m     35\u001B[39m     pred_df = pred_df.rename(columns={\n\u001B[32m     36\u001B[39m         \u001B[33mf\u001B[39m\u001B[33m\"\u001B[39m\u001B[33mregion_id_\u001B[39m\u001B[38;5;132;01m{\u001B[39;00mi\u001B[38;5;132;01m}\u001B[39;00m\u001B[33m\"\u001B[39m: region_map[i]\n\u001B[32m     37\u001B[39m         \u001B[38;5;28;01mfor\u001B[39;00m i \u001B[38;5;129;01min\u001B[39;00m region_map\n\u001B[32m     38\u001B[39m         \u001B[38;5;28;01mif\u001B[39;00m \u001B[33mf\u001B[39m\u001B[33m\"\u001B[39m\u001B[33mregion_id_\u001B[39m\u001B[38;5;132;01m{\u001B[39;00mi\u001B[38;5;132;01m}\u001B[39;00m\u001B[33m\"\u001B[39m \u001B[38;5;129;01min\u001B[39;00m pred_df.columns\n\u001B[32m     39\u001B[39m     })\n\u001B[32m     41\u001B[39m     \u001B[38;5;28;01mif\u001B[39;00m \u001B[33m\"\u001B[39m\u001B[33mSimferopol\u001B[39m\u001B[33m\"\u001B[39m \u001B[38;5;129;01min\u001B[39;00m pred_df.columns:\n",
      "\u001B[36mFile \u001B[39m\u001B[32m~/Documents/air_alarms/.venv311/lib/python3.11/site-packages/pandas/core/reshape/encoding.py:158\u001B[39m, in \u001B[36mget_dummies\u001B[39m\u001B[34m(data, prefix, prefix_sep, dummy_na, columns, sparse, drop_first, dtype)\u001B[39m\n\u001B[32m    156\u001B[39m     \u001B[38;5;28;01mraise\u001B[39;00m \u001B[38;5;167;01mTypeError\u001B[39;00m(\u001B[33m\"\u001B[39m\u001B[33mInput must be a list-like for parameter `columns`\u001B[39m\u001B[33m\"\u001B[39m)\n\u001B[32m    157\u001B[39m \u001B[38;5;28;01melse\u001B[39;00m:\n\u001B[32m--> \u001B[39m\u001B[32m158\u001B[39m     data_to_encode = \u001B[43mdata\u001B[49m\u001B[43m[\u001B[49m\u001B[43mcolumns\u001B[49m\u001B[43m]\u001B[49m\n\u001B[32m    160\u001B[39m \u001B[38;5;66;03m# validate prefixes and separator to avoid silently dropping cols\u001B[39;00m\n\u001B[32m    161\u001B[39m \u001B[38;5;28;01mdef\u001B[39;00m\u001B[38;5;250m \u001B[39m\u001B[34mcheck_len\u001B[39m(item, name):\n",
      "\u001B[36mFile \u001B[39m\u001B[32m~/Documents/air_alarms/.venv311/lib/python3.11/site-packages/pandas/core/frame.py:3767\u001B[39m, in \u001B[36mDataFrame.__getitem__\u001B[39m\u001B[34m(self, key)\u001B[39m\n\u001B[32m   3765\u001B[39m     \u001B[38;5;28;01mif\u001B[39;00m is_iterator(key):\n\u001B[32m   3766\u001B[39m         key = \u001B[38;5;28mlist\u001B[39m(key)\n\u001B[32m-> \u001B[39m\u001B[32m3767\u001B[39m     indexer = \u001B[38;5;28;43mself\u001B[39;49m\u001B[43m.\u001B[49m\u001B[43mcolumns\u001B[49m\u001B[43m.\u001B[49m\u001B[43m_get_indexer_strict\u001B[49m\u001B[43m(\u001B[49m\u001B[43mkey\u001B[49m\u001B[43m,\u001B[49m\u001B[43m \u001B[49m\u001B[33;43m\"\u001B[39;49m\u001B[33;43mcolumns\u001B[39;49m\u001B[33;43m\"\u001B[39;49m\u001B[43m)\u001B[49m[\u001B[32m1\u001B[39m]\n\u001B[32m   3769\u001B[39m \u001B[38;5;66;03m# take() does not accept boolean indexers\u001B[39;00m\n\u001B[32m   3770\u001B[39m \u001B[38;5;28;01mif\u001B[39;00m \u001B[38;5;28mgetattr\u001B[39m(indexer, \u001B[33m\"\u001B[39m\u001B[33mdtype\u001B[39m\u001B[33m\"\u001B[39m, \u001B[38;5;28;01mNone\u001B[39;00m) == \u001B[38;5;28mbool\u001B[39m:\n",
      "\u001B[36mFile \u001B[39m\u001B[32m~/Documents/air_alarms/.venv311/lib/python3.11/site-packages/pandas/core/indexes/base.py:5877\u001B[39m, in \u001B[36mIndex._get_indexer_strict\u001B[39m\u001B[34m(self, key, axis_name)\u001B[39m\n\u001B[32m   5874\u001B[39m \u001B[38;5;28;01melse\u001B[39;00m:\n\u001B[32m   5875\u001B[39m     keyarr, indexer, new_indexer = \u001B[38;5;28mself\u001B[39m._reindex_non_unique(keyarr)\n\u001B[32m-> \u001B[39m\u001B[32m5877\u001B[39m \u001B[38;5;28;43mself\u001B[39;49m\u001B[43m.\u001B[49m\u001B[43m_raise_if_missing\u001B[49m\u001B[43m(\u001B[49m\u001B[43mkeyarr\u001B[49m\u001B[43m,\u001B[49m\u001B[43m \u001B[49m\u001B[43mindexer\u001B[49m\u001B[43m,\u001B[49m\u001B[43m \u001B[49m\u001B[43maxis_name\u001B[49m\u001B[43m)\u001B[49m\n\u001B[32m   5879\u001B[39m keyarr = \u001B[38;5;28mself\u001B[39m.take(indexer)\n\u001B[32m   5880\u001B[39m \u001B[38;5;28;01mif\u001B[39;00m \u001B[38;5;28misinstance\u001B[39m(key, Index):\n\u001B[32m   5881\u001B[39m     \u001B[38;5;66;03m# GH 42790 - Preserve name from an Index\u001B[39;00m\n",
      "\u001B[36mFile \u001B[39m\u001B[32m~/Documents/air_alarms/.venv311/lib/python3.11/site-packages/pandas/core/indexes/base.py:5938\u001B[39m, in \u001B[36mIndex._raise_if_missing\u001B[39m\u001B[34m(self, key, indexer, axis_name)\u001B[39m\n\u001B[32m   5936\u001B[39m     \u001B[38;5;28;01mif\u001B[39;00m use_interval_msg:\n\u001B[32m   5937\u001B[39m         key = \u001B[38;5;28mlist\u001B[39m(key)\n\u001B[32m-> \u001B[39m\u001B[32m5938\u001B[39m     \u001B[38;5;28;01mraise\u001B[39;00m \u001B[38;5;167;01mKeyError\u001B[39;00m(\u001B[33mf\u001B[39m\u001B[33m\"\u001B[39m\u001B[33mNone of [\u001B[39m\u001B[38;5;132;01m{\u001B[39;00mkey\u001B[38;5;132;01m}\u001B[39;00m\u001B[33m] are in the [\u001B[39m\u001B[38;5;132;01m{\u001B[39;00maxis_name\u001B[38;5;132;01m}\u001B[39;00m\u001B[33m]\u001B[39m\u001B[33m\"\u001B[39m)\n\u001B[32m   5940\u001B[39m not_found = \u001B[38;5;28mlist\u001B[39m(ensure_index(key)[missing_mask.nonzero()[\u001B[32m0\u001B[39m]].unique())\n\u001B[32m   5941\u001B[39m \u001B[38;5;28;01mraise\u001B[39;00m \u001B[38;5;167;01mKeyError\u001B[39;00m(\u001B[33mf\u001B[39m\u001B[33m\"\u001B[39m\u001B[38;5;132;01m{\u001B[39;00mnot_found\u001B[38;5;132;01m}\u001B[39;00m\u001B[33m not in index\u001B[39m\u001B[33m\"\u001B[39m)\n",
      "\u001B[31mKeyError\u001B[39m: \"None of [Index(['region_id'], dtype='object')] are in the [columns]\""
     ]
    }
   ],
   "execution_count": 13,
   "source": [
    "#p = prepare_region(df_prepared_data)\n",
    "#df_prepared_data = pd.concat([df_prepared_data, p], axis=1)"
   ],
   "id": "a419ee68cac9c9ce"
  },
  {
   "metadata": {
    "ExecuteTime": {
     "end_time": "2025-05-04T20:06:24.471504Z",
     "start_time": "2025-05-04T20:06:21.511239Z"
    }
   },
   "cell_type": "code",
   "outputs": [],
   "execution_count": 14,
   "source": [
    "X = df_prepared_data.drop(columns=['was_alarm'])\n",
    "y = df_prepared_data['was_alarm']\n",
    "\n",
    "X_train, X_test, y_train, y_test = train_test_split(\n",
    "    X, y, test_size=0.2, stratify=y, random_state=42\n",
    ")\n"
   ],
   "id": "3b3182c0956b15c"
  },
  {
   "metadata": {
    "ExecuteTime": {
     "end_time": "2025-05-04T20:06:25.128125Z",
     "start_time": "2025-05-04T20:06:25.114922Z"
    }
   },
   "cell_type": "code",
   "outputs": [
    {
     "data": {
      "text/plain": [
       "Index(['date', 'advanc near', 'air defens', 'air forc', 'allow russian',\n",
       "       'alongsid static', 'area russian', 'arm armi', 'arm forc',\n",
       "       'armor vehicl',\n",
       "       ...\n",
       "       'region_id_17', 'region_id_18', 'region_id_19', 'region_id_20',\n",
       "       'region_id_21', 'region_id_22', 'region_id_23', 'region_id_24',\n",
       "       'region_id_25', 'region_id_26'],\n",
       "      dtype='object', length=255)"
      ]
     },
     "execution_count": 15,
     "metadata": {},
     "output_type": "execute_result"
    }
   ],
   "execution_count": 15,
   "source": "df_prepared_data.columns",
   "id": "8ab53973a8b58b7a"
  },
  {
   "metadata": {
    "ExecuteTime": {
     "end_time": "2025-05-04T20:06:27.033332Z",
     "start_time": "2025-05-04T20:06:27.028821Z"
    }
   },
   "cell_type": "code",
   "outputs": [
    {
     "name": "stdout",
     "output_type": "stream",
     "text": [
      "<class 'pandas.core.frame.DataFrame'> (519370, 254)\n",
      "<class 'pandas.core.series.Series'> (519370,)\n"
     ]
    }
   ],
   "execution_count": 16,
   "source": [
    "print(type(X_train), X_train.shape)\n",
    "print(type(y_train), y_train.shape)\n"
   ],
   "id": "be82106d873fb0cd"
  },
  {
   "metadata": {
    "ExecuteTime": {
     "end_time": "2025-05-04T20:06:29.935107Z",
     "start_time": "2025-05-04T20:06:29.662222Z"
    }
   },
   "cell_type": "code",
   "outputs": [
    {
     "name": "stdout",
     "output_type": "stream",
     "text": [
      "NaNs in X_train: 0\n",
      "NaNs in y_train: 0\n"
     ]
    }
   ],
   "execution_count": 17,
   "source": [
    "print(\"NaNs in X_train:\", X_train.isnull().sum().sum() if hasattr(X_train, \"isnull\") else np.isnan(X_train).sum())\n",
    "print(\"NaNs in y_train:\", y_train.isnull().sum() if hasattr(y_train, \"isnull\") else np.isnan(y_train).sum())\n"
   ],
   "id": "6b4dfc577375d9a6"
  },
  {
   "metadata": {
    "ExecuteTime": {
     "end_time": "2025-05-04T20:06:31.417144Z",
     "start_time": "2025-05-04T20:06:31.409665Z"
    }
   },
   "cell_type": "code",
   "outputs": [
    {
     "name": "stdout",
     "output_type": "stream",
     "text": [
      "float64    226\n",
      "bool        23\n",
      "object       3\n",
      "int64        1\n",
      "int32        1\n",
      "Name: count, dtype: int64\n"
     ]
    }
   ],
   "execution_count": 18,
   "source": "print(X_train.dtypes.value_counts())\n",
   "id": "dba67d0b570190a8"
  },
  {
   "metadata": {
    "ExecuteTime": {
     "end_time": "2025-05-04T20:06:36.064803Z",
     "start_time": "2025-05-04T20:06:36.019456Z"
    }
   },
   "cell_type": "code",
   "outputs": [
    {
     "name": "stdout",
     "output_type": "stream",
     "text": [
      "{0, 1}\n"
     ]
    }
   ],
   "execution_count": 19,
   "source": "print(set(y_train)) \n",
   "id": "94c540b2d0763f93"
  },
  {
   "metadata": {
    "ExecuteTime": {
     "end_time": "2025-05-04T20:06:37.417473Z",
     "start_time": "2025-05-04T20:06:37.381244Z"
    }
   },
   "cell_type": "code",
   "outputs": [
    {
     "name": "stdout",
     "output_type": "stream",
     "text": [
      "['date', 'day_datetime', 'hour_datetime']\n"
     ]
    }
   ],
   "execution_count": 20,
   "source": [
    "non_numeric_cols = X_train.select_dtypes(include=['object']).columns\n",
    "print(non_numeric_cols.tolist())\n"
   ],
   "id": "f9a04dc41b391f9b"
  },
  {
   "metadata": {
    "ExecuteTime": {
     "end_time": "2025-05-04T20:06:17.318183Z",
     "start_time": "2025-04-28T15:26:09.419117Z"
    }
   },
   "cell_type": "code",
   "outputs": [],
   "source": "",
   "id": "73b2c29bb20180b7",
   "execution_count": null
  },
  {
   "metadata": {
    "ExecuteTime": {
     "end_time": "2025-05-04T20:06:39.712256Z",
     "start_time": "2025-05-04T20:06:39.624437Z"
    }
   },
   "cell_type": "code",
   "outputs": [
    {
     "name": "stdout",
     "output_type": "stream",
     "text": [
      "\n",
      "Column: date\n",
      "['2022-04-05' '2024-06-08' '2024-10-18' '2025-01-20' '2025-01-05'\n",
      " '2024-06-01' '2022-06-30' '2024-01-03' '2024-04-27' '2024-04-25']\n",
      "\n",
      "Column: day_datetime\n",
      "['2022-04-05' '2024-06-08' '2024-10-18' '2025-01-20' '2025-01-05'\n",
      " '2024-06-01' '2022-06-30' '2024-01-03' '2024-04-27' '2024-04-25']\n",
      "\n",
      "Column: hour_datetime\n",
      "['06:00:00' '05:00:00' '22:00:00' '17:00:00' '19:00:00' '10:00:00'\n",
      " '07:00:00' '20:00:00' '08:00:00' '14:00:00']\n"
     ]
    }
   ],
   "execution_count": 21,
   "source": [
    "for col in non_numeric_cols:\n",
    "    print(f\"\\nColumn: {col}\")\n",
    "    print(X_train[col].unique()[:10])\n"
   ],
   "id": "c7c40bab8142d97c"
  },
  {
   "metadata": {
    "ExecuteTime": {
     "end_time": "2025-05-04T20:06:43.022922Z",
     "start_time": "2025-05-04T20:06:42.095666Z"
    }
   },
   "cell_type": "code",
   "outputs": [],
   "execution_count": 22,
   "source": "X_train = X_train.drop(columns=['day_datetime'])  \n",
   "id": "1eb470f8d6d7239c"
  },
  {
   "metadata": {
    "ExecuteTime": {
     "end_time": "2025-05-04T20:06:45.337491Z",
     "start_time": "2025-05-04T20:06:44.319551Z"
    }
   },
   "cell_type": "code",
   "outputs": [],
   "execution_count": 23,
   "source": [
    "X_train['hour'] = pd.to_datetime(X_train['hour_datetime'], format='%H:%M:%S').dt.hour\n",
    "X_train = X_train.drop(columns=['hour_datetime'])  \n"
   ],
   "id": "241d9b82ff9e646f"
  },
  {
   "metadata": {
    "ExecuteTime": {
     "end_time": "2025-05-04T20:06:45.708820Z",
     "start_time": "2025-05-04T20:06:45.702999Z"
    }
   },
   "cell_type": "code",
   "outputs": [
    {
     "name": "stdout",
     "output_type": "stream",
     "text": [
      "float64    226\n",
      "bool        23\n",
      "object       1\n",
      "int64        1\n",
      "int32        1\n",
      "Name: count, dtype: int64\n"
     ]
    }
   ],
   "execution_count": 24,
   "source": [
    "\n",
    "print(X_train.dtypes.value_counts())\n",
    "\n",
    "\n"
   ],
   "id": "d495fb344d19b4f6"
  },
  {
   "metadata": {
    "ExecuteTime": {
     "end_time": "2025-05-04T20:06:49.078997Z",
     "start_time": "2025-05-04T20:06:49.068516Z"
    }
   },
   "cell_type": "code",
   "outputs": [
    {
     "data": {
      "text/plain": [
       "['date']"
      ]
     },
     "execution_count": 25,
     "metadata": {},
     "output_type": "execute_result"
    }
   ],
   "execution_count": 25,
   "source": "X_train.select_dtypes(include='object').columns.tolist()\n",
   "id": "414d4661302f8092"
  },
  {
   "metadata": {
    "ExecuteTime": {
     "end_time": "2025-05-04T20:06:51.393958Z",
     "start_time": "2025-05-04T20:06:51.205223Z"
    }
   },
   "cell_type": "code",
   "outputs": [],
   "execution_count": 26,
   "source": "X_test = X_test.drop(columns=['date'])\n",
   "id": "cbd04c16555e8402"
  },
  {
   "metadata": {
    "ExecuteTime": {
     "end_time": "2025-05-04T20:06:54.771084Z",
     "start_time": "2025-05-04T20:06:53.931643Z"
    }
   },
   "cell_type": "code",
   "outputs": [],
   "execution_count": 27,
   "source": "X_train = X_train.drop(columns=['date'])\n",
   "id": "c3f432868638f321"
  },
  {
   "metadata": {
    "ExecuteTime": {
     "end_time": "2025-05-04T20:06:55.864864Z",
     "start_time": "2025-05-04T20:06:55.685355Z"
    }
   },
   "cell_type": "code",
   "outputs": [],
   "execution_count": 28,
   "source": "X_test = X_test.drop(columns=['day_datetime', 'hour_datetime', 'date'], errors='ignore')\n",
   "id": "f75d78a06ca53992"
  },
  {
   "metadata": {
    "ExecuteTime": {
     "end_time": "2025-05-04T20:06:56.745036Z",
     "start_time": "2025-05-04T20:06:56.739658Z"
    }
   },
   "cell_type": "code",
   "outputs": [],
   "execution_count": 29,
   "source": [
    "class TrainedModel:\n",
    "    def __init__(self, model):\n",
    "        self.model = model\n",
    "        self.trained_at = datetime.datetime.now()\n",
    "        self.last_predicted_at = None\n",
    "\n",
    "    def predict(self, X):\n",
    "        self.last_predicted_at = datetime.datetime.now()\n",
    "        return self.model.predict(X)\n",
    "\n",
    "    def get_metadata(self):\n",
    "        return {\n",
    "            \"trained_at\": self.trained_at,\n",
    "            \"last_predicted_at\": self.last_predicted_at\n",
    "        }"
   ],
   "id": "150d980c2b3ca55f"
  },
  {
   "metadata": {
    "ExecuteTime": {
     "end_time": "2025-05-04T20:09:53.262523Z",
     "start_time": "2025-05-04T20:06:58.711371Z"
    }
   },
   "cell_type": "code",
   "outputs": [],
   "execution_count": 30,
   "source": [
    "clf = RandomForestClassifier(\n",
    "    n_estimators=100,\n",
    "    max_depth=15,\n",
    "    class_weight='balanced',\n",
    "    random_state=42\n",
    ")\n",
    "clf.fit(X_train, y_train)\n",
    "\n",
    "y_pred = clf.predict(X_test)\n",
    "\n",
    "trained_model = TrainedModel(clf)"
   ],
   "id": "d7d145f994611f3b"
  },
  {
   "metadata": {
    "ExecuteTime": {
     "end_time": "2025-05-04T20:06:17.341017Z",
     "start_time": "2025-04-28T15:28:45.552340Z"
    }
   },
   "cell_type": "code",
   "outputs": [
    {
     "name": "stdout",
     "output_type": "stream",
     "text": [
      "              precision    recall  f1-score   support\n",
      "\n",
      "           0       0.99      1.00      1.00     94576\n",
      "           1       1.00      0.98      0.99     35267\n",
      "\n",
      "    accuracy                           1.00    129843\n",
      "   macro avg       1.00      0.99      0.99    129843\n",
      "weighted avg       1.00      1.00      1.00    129843\n",
      "\n"
     ]
    },
    {
     "data": {
      "text/plain": [
       "<Figure size 640x480 with 2 Axes>"
      ],
      "image/png": "[encoded data removed]"
     },
     "metadata": {},
     "output_type": "display_data"
    }
   ],
   "execution_count": 59,
   "source": [
    "\n",
    "print(classification_report(y_test, y_pred))\n",
    "sns.heatmap(confusion_matrix(y_test, y_pred), annot=True, fmt='d', cmap='Blues')\n",
    "plt.xlabel('Predicted')\n",
    "plt.ylabel('Actual')\n",
    "plt.show()\n"
   ],
   "id": "2cfba09e9b66e33b"
  },
  {
   "metadata": {
    "ExecuteTime": {
     "end_time": "2025-05-04T20:06:17.341323Z",
     "start_time": "2025-04-28T15:28:46.310483Z"
    }
   },
   "cell_type": "code",
   "outputs": [
    {
     "data": {
      "text/plain": [
       "<Axes: xlabel='hour_cloudcover', ylabel='Count'>"
      ]
     },
     "execution_count": 61,
     "metadata": {},
     "output_type": "execute_result"
    },
    {
     "data": {
      "text/plain": [
       "<Figure size 640x480 with 1 Axes>"
      ],
      "image/png": "[encoded data removed]"
     },
     "metadata": {},
     "output_type": "display_data"
    }
   ],
   "execution_count": 61,
   "source": [
    "import seaborn as sns\n",
    "sns.histplot(data=df_prepared_data, x='hour_cloudcover', hue='was_alarm', kde=True)\n"
   ],
   "id": "4dd389060ae6e116"
  },
  {
   "metadata": {},
   "cell_type": "code",
   "outputs": [],
   "source": "",
   "id": "71f908aceef2c255",
   "execution_count": null
  },
  {
   "metadata": {},
   "cell_type": "markdown",
   "source": "## Balanced classes",
   "id": "7da33ba17da80bab"
  },
  {
   "metadata": {
    "ExecuteTime": {
     "end_time": "2025-05-05T11:26:25.600614Z",
     "start_time": "2025-05-05T11:26:25.507699Z"
    }
   },
   "cell_type": "code",
   "outputs": [
    {
     "name": "stdout",
     "output_type": "stream",
     "text": [
      "До балансування: Counter({0: 378301, 1: 141069})\n"
     ]
    }
   ],
   "execution_count": 38,
   "source": "print(\"До балансування:\", Counter(y_train))\n",
   "id": "4e7d8137f2a03a48"
  },
  {
   "metadata": {
    "ExecuteTime": {
     "end_time": "2025-05-05T11:26:31.935016Z",
     "start_time": "2025-05-05T11:26:27.768563Z"
    }
   },
   "cell_type": "code",
   "outputs": [
    {
     "name": "stdout",
     "output_type": "stream",
     "text": [
      "Після балансування: Counter({0: 282138, 1: 141069})\n"
     ]
    }
   ],
   "execution_count": 39,
   "source": [
    "majority_class = y_train.value_counts().idxmax()\n",
    "minority_class = y_train.value_counts().idxmin()\n",
    "\n",
    "n_minority = y_train.value_counts()[minority_class]\n",
    "n_majority_target = n_minority * 2\n",
    "\n",
    "\n",
    "rus = RandomUnderSampler(\n",
    "    sampling_strategy={majority_class: n_majority_target, minority_class: n_minority},\n",
    "    random_state=42\n",
    ")\n",
    "X_resampled, y_resampled = rus.fit_resample(X_train, y_train)\n",
    "\n",
    "print(\"Після балансування:\", Counter(y_resampled))\n"
   ],
   "id": "eece69ec3c64ccdb"
  },
  {
   "metadata": {
    "ExecuteTime": {
     "end_time": "2025-05-05T11:29:30.605939Z",
     "start_time": "2025-05-05T11:26:33.533702Z"
    }
   },
   "cell_type": "code",
   "outputs": [
    {
     "data": {
      "text/plain": [
       "RandomForestClassifier(random_state=42)"
      ],
      "text/html": [
       "<style>#sk-container-id-2 {color: black;}#sk-container-id-2 pre{padding: 0;}#sk-container-id-2 div.sk-toggleable {background-color: white;}#sk-container-id-2 label.sk-toggleable__label {cursor: pointer;display: block;width: 100%;margin-bottom: 0;padding: 0.3em;box-sizing: border-box;text-align: center;}#sk-container-id-2 label.sk-toggleable__label-arrow:before {content: \"▸\";float: left;margin-right: 0.25em;color: #696969;}#sk-container-id-2 label.sk-toggleable__label-arrow:hover:before {color: black;}#sk-container-id-2 div.sk-estimator:hover label.sk-toggleable__label-arrow:before {color: black;}#sk-container-id-2 div.sk-toggleable__content {max-height: 0;max-width: 0;overflow: hidden;text-align: left;background-color: #f0f8ff;}#sk-container-id-2 div.sk-toggleable__content pre {margin: 0.2em;color: black;border-radius: 0.25em;background-color: #f0f8ff;}#sk-container-id-2 input.sk-toggleable__control:checked~div.sk-toggleable__content {max-height: 200px;max-width: 100%;overflow: auto;}#sk-container-id-2 input.sk-toggleable__control:checked~label.sk-toggleable__label-arrow:before {content: \"▾\";}#sk-container-id-2 div.sk-estimator input.sk-toggleable__control:checked~label.sk-toggleable__label {background-color: #d4ebff;}#sk-container-id-2 div.sk-label input.sk-toggleable__control:checked~label.sk-toggleable__label {background-color: #d4ebff;}#sk-container-id-2 input.sk-hidden--visually {border: 0;clip: rect(1px 1px 1px 1px);clip: rect(1px, 1px, 1px, 1px);height: 1px;margin: -1px;overflow: hidden;padding: 0;position: absolute;width: 1px;}#sk-container-id-2 div.sk-estimator {font-family: monospace;background-color: #f0f8ff;border: 1px dotted black;border-radius: 0.25em;box-sizing: border-box;margin-bottom: 0.5em;}#sk-container-id-2 div.sk-estimator:hover {background-color: #d4ebff;}#sk-container-id-2 div.sk-parallel-item::after {content: \"\";width: 100%;border-bottom: 1px solid gray;flex-grow: 1;}#sk-container-id-2 div.sk-label:hover label.sk-toggleable__label {background-color: #d4ebff;}#sk-container-id-2 div.sk-serial::before {content: \"\";position: absolute;border-left: 1px solid gray;box-sizing: border-box;top: 0;bottom: 0;left: 50%;z-index: 0;}#sk-container-id-2 div.sk-serial {display: flex;flex-direction: column;align-items: center;background-color: white;padding-right: 0.2em;padding-left: 0.2em;position: relative;}#sk-container-id-2 div.sk-item {position: relative;z-index: 1;}#sk-container-id-2 div.sk-parallel {display: flex;align-items: stretch;justify-content: center;background-color: white;position: relative;}#sk-container-id-2 div.sk-item::before, #sk-container-id-2 div.sk-parallel-item::before {content: \"\";position: absolute;border-left: 1px solid gray;box-sizing: border-box;top: 0;bottom: 0;left: 50%;z-index: -1;}#sk-container-id-2 div.sk-parallel-item {display: flex;flex-direction: column;z-index: 1;position: relative;background-color: white;}#sk-container-id-2 div.sk-parallel-item:first-child::after {align-self: flex-end;width: 50%;}#sk-container-id-2 div.sk-parallel-item:last-child::after {align-self: flex-start;width: 50%;}#sk-container-id-2 div.sk-parallel-item:only-child::after {width: 0;}#sk-container-id-2 div.sk-dashed-wrapped {border: 1px dashed gray;margin: 0 0.4em 0.5em 0.4em;box-sizing: border-box;padding-bottom: 0.4em;background-color: white;}#sk-container-id-2 div.sk-label label {font-family: monospace;font-weight: bold;display: inline-block;line-height: 1.2em;}#sk-container-id-2 div.sk-label-container {text-align: center;}#sk-container-id-2 div.sk-container {/* jupyter's `normalize.less` sets `[hidden] { display: none; }` but bootstrap.min.css set `[hidden] { display: none !important; }` so we also need the `!important` here to be able to override the default hidden behavior on the sphinx rendered scikit-learn.org. See: https://github.com/scikit-learn/scikit-learn/issues/21755 */display: inline-block !important;position: relative;}#sk-container-id-2 div.sk-text-repr-fallback {display: none;}</style><div id=\"sk-container-id-2\" class=\"sk-top-container\"><div class=\"sk-text-repr-fallback\"><pre>RandomForestClassifier(random_state=42)</pre><b>In a Jupyter environment, please rerun this cell to show the HTML representation or trust the notebook. <br />On GitHub, the HTML representation is unable to render, please try loading this page with nbviewer.org.</b></div><div class=\"sk-container\" hidden><div class=\"sk-item\"><div class=\"sk-estimator sk-toggleable\"><input class=\"sk-toggleable__control sk-hidden--visually\" id=\"sk-estimator-id-2\" type=\"checkbox\" checked><label for=\"sk-estimator-id-2\" class=\"sk-toggleable__label sk-toggleable__label-arrow\">RandomForestClassifier</label><div class=\"sk-toggleable__content\"><pre>RandomForestClassifier(random_state=42)</pre></div></div></div></div></div>"
      ]
     },
     "execution_count": 40,
     "metadata": {},
     "output_type": "execute_result"
    }
   ],
   "execution_count": 40,
   "source": [
    "clf = RandomForestClassifier(random_state=42)\n",
    "clf.fit(X_resampled, y_resampled)\n"
   ],
   "id": "df7c13d7e05aa19b"
  },
  {
   "metadata": {
    "ExecuteTime": {
     "end_time": "2025-05-05T11:29:44.298399Z",
     "start_time": "2025-05-05T11:29:39.521933Z"
    }
   },
   "cell_type": "code",
   "outputs": [
    {
     "name": "stdout",
     "output_type": "stream",
     "text": [
      "              precision    recall  f1-score   support\n",
      "\n",
      "           0       1.00      1.00      1.00     94576\n",
      "           1       0.99      0.99      0.99     35267\n",
      "\n",
      "    accuracy                           1.00    129843\n",
      "   macro avg       1.00      0.99      0.99    129843\n",
      "weighted avg       1.00      1.00      1.00    129843\n",
      "\n"
     ]
    },
    {
     "data": {
      "text/plain": [
       "<Figure size 640x480 with 2 Axes>"
      ],
      "image/png": "[encoded data removed]"
     },
     "metadata": {},
     "output_type": "display_data"
    }
   ],
   "execution_count": 41,
   "source": [
    "y_pred = clf.predict(X_test)\n",
    "\n",
    "print(classification_report(y_test, y_pred))\n",
    "\n",
    "sns.heatmap(confusion_matrix(y_test, y_pred), annot=True, fmt='d', cmap='Blues')\n",
    "plt.xlabel('Predicted')\n",
    "plt.ylabel('Actual')\n",
    "plt.title('Confusion Matrix (Test Set)')\n",
    "plt.show()\n"
   ],
   "id": "4f3a5d8e2b978099"
  }
 ],
 "metadata": {
  "kernelspec": {
   "display_name": "Python 3",
   "language": "python",
   "name": "python3"
  },
  "language_info": {
   "codemirror_mode": {
    "name": "ipython",
    "version": 2
   },
   "file_extension": ".py",
   "mimetype": "text/x-python",
   "name": "python",
   "nbconvert_exporter": "python",
   "pygments_lexer": "ipython2",
   "version": "2.7.6"
  }
 },
 "nbformat": 4,
 "nbformat_minor": 5
}
